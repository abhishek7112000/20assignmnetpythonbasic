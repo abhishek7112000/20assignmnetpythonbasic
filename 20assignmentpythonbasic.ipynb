{
 "cells": [
  {
   "cell_type": "code",
   "execution_count": null,
   "id": "93fff777-d64f-4467-b395-eb4a87862f4b",
   "metadata": {},
   "outputs": [],
   "source": [
    "1. Set the variable test1 to the string &#39;This is a test of the emergency text system,&#39; and save test1 to a\n",
    "file named test.txt."
   ]
  },
  {
   "cell_type": "code",
   "execution_count": null,
   "id": "aec91837-8f1f-4484-9a81-1dff3c85598e",
   "metadata": {},
   "outputs": [],
   "source": [
    "ans-test1 = 'This is a test of the emergency text system,'\n",
    "print(test1)\n",
    "with open('test.txt','w') as file:\n",
    "    file.write(test1)\n",
    "    file.close()\n",
    "This is a test of the emergency text system,\n",
    "# read the contents of test.txt\n",
    "! type test.txt \n",
    "This is a test of the emergency text system,"
   ]
  },
  {
   "cell_type": "code",
   "execution_count": null,
   "id": "896172c2-6a6e-42e3-9bc5-89697c5e30e8",
   "metadata": {},
   "outputs": [],
   "source": [
    "2. Read the contents of the file test.txt into the variable test2. Is there a difference between test 1 and test 2?"
   ]
  },
  {
   "cell_type": "code",
   "execution_count": null,
   "id": "761b0543-d063-4c2f-bb49-43b2d04f5bc6",
   "metadata": {},
   "outputs": [],
   "source": [
    "ans-with open('test.txt','r') as file:\n",
    "    test2 = file.read()\n",
    "    \n",
    "print(test2)   \n",
    "print(test1 == test2)\n",
    "This is a test of the emergency text system,\n",
    "True"
   ]
  },
  {
   "cell_type": "code",
   "execution_count": null,
   "id": "674b4b10-59e6-4983-88eb-2d1cf732f441",
   "metadata": {},
   "outputs": [],
   "source": [
    "3. Create a CSV file called books.csv by using these lines:"
   ]
  },
  {
   "cell_type": "code",
   "execution_count": null,
   "id": "ce60d066-20ca-4c1d-80fd-3ed5586aaab2",
   "metadata": {},
   "outputs": [],
   "source": [
    "ans- title,author,year\n",
    "The Weirdstone of Brisingamen,Alan Garner,1960\n",
    "Perdido Street Station,China Miéville,2000\n",
    "Thud!,Terry Pratchett,2005\n",
    "The Spellman Files,Lisa Lutz,2007\n",
    "Small Gods,Terry Pratchett,1992\n",
    "\n",
    "data = '''title,author,year\n",
    "The Weirdstone of Brisingamen,Alan Garner,1960\n",
    "Perdido Street Station,China Miéville,2000\n",
    "Thud!,Terry Pratchett,2005\n",
    "The Spellman Files,Lisa Lutz,2007\n",
    "Small Gods,Terry Pratchett,1992'''\n",
    "\n",
    "with open('books.csv','w') as file:\n",
    "    file.write(data)"
   ]
  },
  {
   "cell_type": "code",
   "execution_count": null,
   "id": "533df7c0-ad51-4921-b047-03dd00a40e9a",
   "metadata": {},
   "outputs": [],
   "source": [
    "4. Use the sqlite3 module to create a SQLite database called books.db, and a table called books with these fields: title (text), author (text), and year (integer)."
   ]
  },
  {
   "cell_type": "code",
   "execution_count": null,
   "id": "4f758401-be17-4b97-ab9b-87c2ece7611c",
   "metadata": {},
   "outputs": [],
   "source": [
    "ans-import sqlite3\n",
    "db = sqlite3.connect('books.db')\n",
    "cursor = db.cursor()\n",
    "cursor.execute(\"CREATE TABLE books (title text, author text, year int)\")\n",
    "db.commit()\n",
    "db.close()"
   ]
  },
  {
   "cell_type": "code",
   "execution_count": null,
   "id": "1f807ba0-6be5-43a2-847e-820e82923b2a",
   "metadata": {},
   "outputs": [],
   "source": [
    "5. Read books.csv and insert its data into the books table."
   ]
  },
  {
   "cell_type": "code",
   "execution_count": null,
   "id": "f0aa7784-1226-47d9-94bc-7c97616e28b4",
   "metadata": {},
   "outputs": [],
   "source": [
    "ans- import sqlite3\n",
    "import csv\n",
    "conn = sqlite3.connect(\"books.db\")\n",
    "cursor = conn.cursor()\n",
    "with open(\"books.csv\",\"r\") as file:\n",
    "    books = csv.DictReader(file)\n",
    "    for book in books:\n",
    "        cursor.execute(\"INSERT INTO books VALUES (?,?,?)\",(book['title'],book['author'],book['year']))\n",
    "conn.commit()\n",
    "conn.close()"
   ]
  },
  {
   "cell_type": "code",
   "execution_count": null,
   "id": "de0ccc10-1d41-45c2-98af-4186bd35fa6f",
   "metadata": {},
   "outputs": [],
   "source": [
    "6. Select and print the title column from the books table in alphabetical order."
   ]
  },
  {
   "cell_type": "code",
   "execution_count": null,
   "id": "3b8e2209-daf5-40b4-963d-94d9544d255e",
   "metadata": {},
   "outputs": [],
   "source": [
    "ans- import sqlite3\n",
    "conn = sqlite3.connect('books.db')\n",
    "cursor = conn.cursor()\n",
    "output = cursor.execute(\"SELECT title FROM books ORDER BY title ASC\")\n",
    "for ele in output:\n",
    "    print(ele[0])\n",
    "conn.commit()\n",
    "conn.close()\n",
    "Perdido Street Station\n",
    "Small Gods\n",
    "The Spellman Files\n",
    "The Weirdstone of Brisingamen\n",
    "Thud!"
   ]
  },
  {
   "cell_type": "code",
   "execution_count": null,
   "id": "e5de9ca3-b6af-4931-be34-ddaf2386eac1",
   "metadata": {},
   "outputs": [],
   "source": [
    "7. From the books table, select and print all columns in the order of publication.\n"
   ]
  },
  {
   "cell_type": "code",
   "execution_count": null,
   "id": "b3af61b8-6706-46ed-98f1-1f833edf24f9",
   "metadata": {},
   "outputs": [],
   "source": [
    "ans-import sqlite3\n",
    "conn = sqlite3.connect('books.db')\n",
    "cursor = conn.cursor()\n",
    "ouput = cursor.execute(\"SELECT * FROM books ORDER BY year\")\n",
    "for record in ouput:\n",
    "    print(record)\n",
    "('The Weirdstone of Brisingamen', 'Alan Garner', 1960)\n",
    "('Small Gods', 'Terry Pratchett', 1992)\n",
    "('Perdido Street Station', 'China Miéville', 2000)\n",
    "('Thud!', 'Terry Pratchett', 2005)\n",
    "('The Spellman Files', 'Lisa Lutz', 2007)"
   ]
  },
  {
   "cell_type": "code",
   "execution_count": null,
   "id": "a4d5e1d8-c73d-4c34-bd6b-444a7a9c94d6",
   "metadata": {},
   "outputs": [],
   "source": [
    "8. Use the sqlalchemy module to connect to the sqlite3 database books.db that you just made in exercise 6."
   ]
  },
  {
   "cell_type": "code",
   "execution_count": null,
   "id": "8a97a0a2-a5c0-4dfe-873c-d70a06d5cbf2",
   "metadata": {},
   "outputs": [],
   "source": [
    "ans- import sqlalchemy\n",
    "conn = sqlalchemy.create_engine('sqlite:///books.db')\n",
    "conn\n",
    "Engine(sqlite:///books.db)"
   ]
  },
  {
   "cell_type": "code",
   "execution_count": null,
   "id": "dd79d452-a06e-4525-81ec-f469ddca84b7",
   "metadata": {},
   "outputs": [],
   "source": [
    "9. Install the Redis server and the Python redis library (pip install redis) on your computer. Create a Redis hash called test with the fields count (1) and name ('Fester Bestertester'). Print all the fields for test."
   ]
  },
  {
   "cell_type": "code",
   "execution_count": null,
   "id": "aaebb349-deb4-42f3-9e27-5ae31d455ce9",
   "metadata": {},
   "outputs": [],
   "source": [
    "ans-! python -m pip install redis\n",
    "Requirement already satisfied: redis in c:\\programdata\\anaconda3\\lib\\site-packages (3.5.3)\n",
    "import redis\n",
    "conn = redis.Redis()\n",
    "conn.hset('test',{\n",
    "    'count':1,\n",
    "    'name':'Fester Bestertester'\n",
    "})\n",
    "conn.hgetall('test')"
   ]
  },
  {
   "cell_type": "code",
   "execution_count": null,
   "id": "a073c239-5c58-4813-aa02-dc8b87500b0b",
   "metadata": {},
   "outputs": [],
   "source": []
  },
  {
   "cell_type": "code",
   "execution_count": null,
   "id": "3619ac4c-0b99-44f5-a2ef-bc16564e4b2e",
   "metadata": {},
   "outputs": [],
   "source": []
  },
  {
   "cell_type": "code",
   "execution_count": null,
   "id": "607edf4d-e7cf-4e14-9822-6814254309ed",
   "metadata": {},
   "outputs": [],
   "source": []
  }
 ],
 "metadata": {
  "kernelspec": {
   "display_name": "Python 3 (ipykernel)",
   "language": "python",
   "name": "python3"
  },
  "language_info": {
   "codemirror_mode": {
    "name": "ipython",
    "version": 3
   },
   "file_extension": ".py",
   "mimetype": "text/x-python",
   "name": "python",
   "nbconvert_exporter": "python",
   "pygments_lexer": "ipython3",
   "version": "3.10.6"
  }
 },
 "nbformat": 4,
 "nbformat_minor": 5
}
